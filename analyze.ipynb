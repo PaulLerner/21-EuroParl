{
 "cells": [
  {
   "cell_type": "markdown",
   "id": "94ab64ad-ee38-4fdb-83e1-0a6a4453977b",
   "metadata": {},
   "source": [
    "# imports"
   ]
  },
  {
   "cell_type": "code",
   "execution_count": 1,
   "id": "f4d003bb-d213-42c7-aa79-6ba60db5c282",
   "metadata": {},
   "outputs": [
    {
     "name": "stderr",
     "output_type": "stream",
     "text": [
      "/home/paul/miniforge3/envs/matos/lib/python3.10/site-packages/torch/cuda/__init__.py:129: UserWarning: CUDA initialization: CUDA unknown error - this may be due to an incorrectly set up environment, e.g. changing env variable CUDA_VISIBLE_DEVICES after program start. Setting the available devices to be zero. (Triggered internally at /pytorch/c10/cuda/CUDAFunctions.cpp:109.)\n",
      "  return torch._C._cuda_getDeviceCount() > 0\n"
     ]
    }
   ],
   "source": [
    "from scipy.stats import ttest_ind, f_oneway\n",
    "from scipy.stats import pearsonr\n",
    "import numpy as np\n",
    "import scipy\n",
    "from datasets import Dataset, load_dataset\n",
    "import json\n",
    "import pandas as pd\n",
    "import seaborn as sns\n",
    "\n",
    "from collections import Counter\n",
    "\n",
    "import pyperclip\n",
    "import iso639\n",
    "def copy_print(string):\n",
    "    print(string)\n",
    "    pyperclip.copy(string)\n",
    "\n",
    "import matplotlib.pyplot as plt\n",
    "\n",
    "import itertools\n"
   ]
  },
  {
   "cell_type": "markdown",
   "id": "b7f59b84-0eb8-4911-9737-cc3d2dce1178",
   "metadata": {},
   "source": [
    "# data"
   ]
  },
  {
   "cell_type": "code",
   "execution_count": 2,
   "id": "0ec7dc56-54f3-45d1-8ccc-203273b3d3bf",
   "metadata": {},
   "outputs": [],
   "source": [
    "subset = load_dataset(\"PaulLerner/21-EuroParl\")[\"test\"].to_pandas()\n",
    "subset[\"EU Party name\"] = [party.split(\"/\")[-1] for party in subset[\"EU Party\"]]\n",
    "eu_parties = sorted(subset[\"EU Party name\"].unique())#{'EPP', 'NGL'}\n",
    "\n",
    "languages = np.array(['bg',\n",
    " 'cs',\n",
    " 'da',\n",
    " 'de',\n",
    " 'el',\n",
    " 'en',\n",
    " 'es',\n",
    " 'et',\n",
    " 'fi',\n",
    " 'fr',\n",
    " 'hu',\n",
    " 'it',\n",
    " 'lt',\n",
    " 'lv',\n",
    " 'nl',\n",
    " 'pl',\n",
    " 'pt',\n",
    " 'ro',\n",
    " 'sk',\n",
    " 'sl',\n",
    " 'sv'])"
   ]
  },
  {
   "cell_type": "markdown",
   "id": "fd894ca6-1225-4588-af84-f67fe94926df",
   "metadata": {},
   "source": [
    "# metric per sample"
   ]
  },
  {
   "cell_type": "code",
   "execution_count": 5,
   "id": "ffc07ae9-9df6-441f-bd18-42c6ab646e6c",
   "metadata": {},
   "outputs": [],
   "source": [
    "\n",
    "all_metrics = {k: [] for k in [\"model\",\"EU Party\", \"orig_src\", 'sBLEU', 'COMET', 'src', 'tgt']}\n",
    "for model in [\"Qwen3-4B\", \"Qwen3-8B\", \"Llama-3.1-8B-Instruct\"]:\n",
    "    with open(f\"/home/paul/code/bias/iznogoud/data/jz/text2text/21-multi-europarl/{model}/metrics.json\",\"rt\") as file:\n",
    "        metrics = json.load(file)\n",
    "\n",
    "    for metric in metrics:\n",
    "        assert len(metric[\"BLEUs\"]) == len(subset)\n",
    "        for bleu, comet, country, n_party, eu_party, orig_src in zip(metric[\"BLEUs\"], metric[\"wmt22-comet-das\"], subset[\"EU Party name\"], subset[\"src_lang\"]):\n",
    "            all_metrics[\"sBLEU\"].append(bleu)\n",
    "            all_metrics[\"model\"].append(model)\n",
    "            all_metrics[\"COMET\"].append(comet*100)\n",
    "            all_metrics[\"src\"].append(metric[\"src\"])\n",
    "            all_metrics[\"tgt\"].append(metric[\"tgt\"])\n",
    "            all_metrics[\"EU Party\"].append(eu_party)\n",
    "            all_metrics[\"orig_src\"].append(orig_src)\n",
    "\n",
    "all_metrics = pd.DataFrame(all_metrics)\n",
    "\n",
    "all_metrics[\"translationese\"] = \"<->\"\n",
    "all_metrics.loc[all_metrics[\"orig_src\"] == all_metrics[\"src\"],\"translationese\"] = \"src ->\"\n",
    "all_metrics.loc[all_metrics[\"orig_src\"] == all_metrics[\"tgt\"],\"translationese\"] = \"src <-\""
   ]
  },
  {
   "cell_type": "code",
   "execution_count": 6,
   "id": "20e95d90-4345-4257-8588-8ce39ff6c31c",
   "metadata": {},
   "outputs": [],
   "source": [
    "metric_name = \"sBLEU\"#\"COMET\"#\"\n"
   ]
  },
  {
   "cell_type": "code",
   "execution_count": 46,
   "id": "e8ae418c-7ee6-470c-9b26-43e7b23008cc",
   "metadata": {},
   "outputs": [
    {
     "data": {
      "text/html": [
       "<div>\n",
       "<style scoped>\n",
       "    .dataframe tbody tr th:only-of-type {\n",
       "        vertical-align: middle;\n",
       "    }\n",
       "\n",
       "    .dataframe tbody tr th {\n",
       "        vertical-align: top;\n",
       "    }\n",
       "\n",
       "    .dataframe thead th {\n",
       "        text-align: right;\n",
       "    }\n",
       "</style>\n",
       "<table border=\"1\" class=\"dataframe\">\n",
       "  <thead>\n",
       "    <tr style=\"text-align: right;\">\n",
       "      <th></th>\n",
       "      <th>model</th>\n",
       "      <th>EU Party</th>\n",
       "      <th>National Party</th>\n",
       "      <th>country</th>\n",
       "      <th>orig_src</th>\n",
       "      <th>sBLEU</th>\n",
       "      <th>COMET</th>\n",
       "      <th>src</th>\n",
       "      <th>tgt</th>\n",
       "      <th>translationese</th>\n",
       "    </tr>\n",
       "  </thead>\n",
       "  <tbody>\n",
       "    <tr>\n",
       "      <th>0</th>\n",
       "      <td>Qwen3-4B</td>\n",
       "      <td>EFA</td>\n",
       "      <td>E%C3%89_France</td>\n",
       "      <td>FR</td>\n",
       "      <td>fr</td>\n",
       "      <td>9.410490</td>\n",
       "      <td>88.610750</td>\n",
       "      <td>cs</td>\n",
       "      <td>bg</td>\n",
       "      <td>&lt;-&gt;</td>\n",
       "    </tr>\n",
       "    <tr>\n",
       "      <th>1</th>\n",
       "      <td>Qwen3-4B</td>\n",
       "      <td>EPP</td>\n",
       "      <td>PP_Spain</td>\n",
       "      <td>ES</td>\n",
       "      <td>es</td>\n",
       "      <td>35.331246</td>\n",
       "      <td>85.508573</td>\n",
       "      <td>cs</td>\n",
       "      <td>bg</td>\n",
       "      <td>&lt;-&gt;</td>\n",
       "    </tr>\n",
       "    <tr>\n",
       "      <th>2</th>\n",
       "      <td>Qwen3-4B</td>\n",
       "      <td>EPP</td>\n",
       "      <td>PP_Spain</td>\n",
       "      <td>ES</td>\n",
       "      <td>es</td>\n",
       "      <td>30.820866</td>\n",
       "      <td>63.346416</td>\n",
       "      <td>cs</td>\n",
       "      <td>bg</td>\n",
       "      <td>&lt;-&gt;</td>\n",
       "    </tr>\n",
       "    <tr>\n",
       "      <th>3</th>\n",
       "      <td>Qwen3-4B</td>\n",
       "      <td>EPP</td>\n",
       "      <td>PP_Spain</td>\n",
       "      <td>ES</td>\n",
       "      <td>es</td>\n",
       "      <td>27.677945</td>\n",
       "      <td>88.599157</td>\n",
       "      <td>cs</td>\n",
       "      <td>bg</td>\n",
       "      <td>&lt;-&gt;</td>\n",
       "    </tr>\n",
       "    <tr>\n",
       "      <th>4</th>\n",
       "      <td>Qwen3-4B</td>\n",
       "      <td>S&amp;D</td>\n",
       "      <td>PD_Italy</td>\n",
       "      <td>IT</td>\n",
       "      <td>it</td>\n",
       "      <td>8.201319</td>\n",
       "      <td>70.532614</td>\n",
       "      <td>cs</td>\n",
       "      <td>bg</td>\n",
       "      <td>&lt;-&gt;</td>\n",
       "    </tr>\n",
       "    <tr>\n",
       "      <th>...</th>\n",
       "      <td>...</td>\n",
       "      <td>...</td>\n",
       "      <td>...</td>\n",
       "      <td>...</td>\n",
       "      <td>...</td>\n",
       "      <td>...</td>\n",
       "      <td>...</td>\n",
       "      <td>...</td>\n",
       "      <td>...</td>\n",
       "      <td>...</td>\n",
       "    </tr>\n",
       "    <tr>\n",
       "      <th>29466355</th>\n",
       "      <td>Llama-3.1-8B-Instruct</td>\n",
       "      <td>ALDE</td>\n",
       "      <td>Darbo_partija_Lithuania</td>\n",
       "      <td>LT</td>\n",
       "      <td>lt</td>\n",
       "      <td>16.064554</td>\n",
       "      <td>92.841572</td>\n",
       "      <td>sl</td>\n",
       "      <td>sv</td>\n",
       "      <td>&lt;-&gt;</td>\n",
       "    </tr>\n",
       "    <tr>\n",
       "      <th>29466356</th>\n",
       "      <td>Llama-3.1-8B-Instruct</td>\n",
       "      <td>ALDE</td>\n",
       "      <td>Darbo_partija_Lithuania</td>\n",
       "      <td>LT</td>\n",
       "      <td>lt</td>\n",
       "      <td>3.114248</td>\n",
       "      <td>90.915167</td>\n",
       "      <td>sl</td>\n",
       "      <td>sv</td>\n",
       "      <td>&lt;-&gt;</td>\n",
       "    </tr>\n",
       "    <tr>\n",
       "      <th>29466357</th>\n",
       "      <td>Llama-3.1-8B-Instruct</td>\n",
       "      <td>ALDE</td>\n",
       "      <td>Darbo_partija_Lithuania</td>\n",
       "      <td>LT</td>\n",
       "      <td>lt</td>\n",
       "      <td>9.437676</td>\n",
       "      <td>95.232409</td>\n",
       "      <td>sl</td>\n",
       "      <td>sv</td>\n",
       "      <td>&lt;-&gt;</td>\n",
       "    </tr>\n",
       "    <tr>\n",
       "      <th>29466358</th>\n",
       "      <td>Llama-3.1-8B-Instruct</td>\n",
       "      <td>EPP</td>\n",
       "      <td>Kres%25C5%25A5anskodemokratick%25C3%25A9_hnuti...</td>\n",
       "      <td>SK</td>\n",
       "      <td>sk</td>\n",
       "      <td>9.200468</td>\n",
       "      <td>90.711451</td>\n",
       "      <td>sl</td>\n",
       "      <td>sv</td>\n",
       "      <td>&lt;-&gt;</td>\n",
       "    </tr>\n",
       "    <tr>\n",
       "      <th>29466359</th>\n",
       "      <td>Llama-3.1-8B-Instruct</td>\n",
       "      <td>EPP</td>\n",
       "      <td>Kres%25C5%25A5anskodemokratick%25C3%25A9_hnuti...</td>\n",
       "      <td>SK</td>\n",
       "      <td>sk</td>\n",
       "      <td>17.986935</td>\n",
       "      <td>91.696388</td>\n",
       "      <td>sl</td>\n",
       "      <td>sv</td>\n",
       "      <td>&lt;-&gt;</td>\n",
       "    </tr>\n",
       "  </tbody>\n",
       "</table>\n",
       "<p>29466360 rows × 10 columns</p>\n",
       "</div>"
      ],
      "text/plain": [
       "                          model EU Party  \\\n",
       "0                      Qwen3-4B      EFA   \n",
       "1                      Qwen3-4B      EPP   \n",
       "2                      Qwen3-4B      EPP   \n",
       "3                      Qwen3-4B      EPP   \n",
       "4                      Qwen3-4B      S&D   \n",
       "...                         ...      ...   \n",
       "29466355  Llama-3.1-8B-Instruct     ALDE   \n",
       "29466356  Llama-3.1-8B-Instruct     ALDE   \n",
       "29466357  Llama-3.1-8B-Instruct     ALDE   \n",
       "29466358  Llama-3.1-8B-Instruct      EPP   \n",
       "29466359  Llama-3.1-8B-Instruct      EPP   \n",
       "\n",
       "                                             National Party country orig_src  \\\n",
       "0                                            E%C3%89_France      FR       fr   \n",
       "1                                                  PP_Spain      ES       es   \n",
       "2                                                  PP_Spain      ES       es   \n",
       "3                                                  PP_Spain      ES       es   \n",
       "4                                                  PD_Italy      IT       it   \n",
       "...                                                     ...     ...      ...   \n",
       "29466355                            Darbo_partija_Lithuania      LT       lt   \n",
       "29466356                            Darbo_partija_Lithuania      LT       lt   \n",
       "29466357                            Darbo_partija_Lithuania      LT       lt   \n",
       "29466358  Kres%25C5%25A5anskodemokratick%25C3%25A9_hnuti...      SK       sk   \n",
       "29466359  Kres%25C5%25A5anskodemokratick%25C3%25A9_hnuti...      SK       sk   \n",
       "\n",
       "              sBLEU      COMET src tgt translationese  \n",
       "0          9.410490  88.610750  cs  bg            <->  \n",
       "1         35.331246  85.508573  cs  bg            <->  \n",
       "2         30.820866  63.346416  cs  bg            <->  \n",
       "3         27.677945  88.599157  cs  bg            <->  \n",
       "4          8.201319  70.532614  cs  bg            <->  \n",
       "...             ...        ...  ..  ..            ...  \n",
       "29466355  16.064554  92.841572  sl  sv            <->  \n",
       "29466356   3.114248  90.915167  sl  sv            <->  \n",
       "29466357   9.437676  95.232409  sl  sv            <->  \n",
       "29466358   9.200468  90.711451  sl  sv            <->  \n",
       "29466359  17.986935  91.696388  sl  sv            <->  \n",
       "\n",
       "[29466360 rows x 10 columns]"
      ]
     },
     "execution_count": 46,
     "metadata": {},
     "output_type": "execute_result"
    }
   ],
   "source": [
    "all_metrics"
   ]
  },
  {
   "cell_type": "markdown",
   "id": "781d0339-302e-4d6f-a3e1-6bd6f9e80b8d",
   "metadata": {},
   "source": [
    "# per language pair"
   ]
  },
  {
   "cell_type": "markdown",
   "id": "0f5f3547-e8a9-4b9c-a7e3-0bf7d408a7b8",
   "metadata": {},
   "source": [
    "## language pair plot"
   ]
  },
  {
   "cell_type": "code",
   "execution_count": 19,
   "id": "bd779b21-2df2-4fea-a5a8-fc0225e38645",
   "metadata": {},
   "outputs": [],
   "source": [
    "mean_metrics = []\n",
    "for src, src_metrics in all_metrics.groupby(\"src\", sort=False):\n",
    "    for tgt, tgt_metrics in src_metrics.groupby(\"tgt\", sort=False):\n",
    "        for model, model_metrics in tgt_metrics.groupby(\"model\",sort=False):\n",
    "            mean_metrics.append(dict(src=src, tgt=tgt, model=model, sBLEU=model_metrics[\"sBLEU\"].mean(), COMET=model_metrics[\"COMET\"].mean()))"
   ]
  },
  {
   "cell_type": "code",
   "execution_count": 20,
   "id": "75e8ec34-8834-4a7b-bd6c-e30987a48e99",
   "metadata": {},
   "outputs": [],
   "source": [
    "mean_metrics=pd.DataFrame(mean_metrics)"
   ]
  },
  {
   "cell_type": "code",
   "execution_count": 23,
   "id": "4c316b62-3270-4e83-a982-6e364d797560",
   "metadata": {},
   "outputs": [],
   "source": [
    "mean_metric = {}\n",
    "for _, row in mean_metrics.iterrows():\n",
    "    mean_metric.setdefault((row.src, row.tgt), [])\n",
    "    mean_metric[(row.src, row.tgt)].append(row.sBLEU)\n",
    "    mean_metric[(row.src, row.tgt)].append(row[\"COMET\"])"
   ]
  },
  {
   "cell_type": "code",
   "execution_count": 24,
   "id": "e4a89ab5-5ef5-4ccf-bd5d-a1c0a4490fee",
   "metadata": {},
   "outputs": [],
   "source": [
    "mean_metric = pd.DataFrame(mean_metric).mean()"
   ]
  },
  {
   "cell_type": "code",
   "execution_count": 25,
   "id": "a648f0eb-a6f3-44bb-b56d-f1334b38271d",
   "metadata": {},
   "outputs": [],
   "source": [
    "mean_metric=mean_metric.sort_values()"
   ]
  },
  {
   "cell_type": "code",
   "execution_count": 31,
   "id": "3c2c4ee2-16f1-4630-9986-a934bcb3483b",
   "metadata": {},
   "outputs": [
    {
     "data": {
      "image/png": "[encoded data removed]",
      "text/plain": [
       "<Figure size 700.5x500 with 1 Axes>"
      ]
     },
     "metadata": {},
     "output_type": "display_data"
    }
   ],
   "source": [
    "\n",
    "arrowprops=dict(facecolor='black', width=.1, headwidth=2, headlength=2, alpha=0.5)\n",
    "fig=sns.relplot(mean_metrics, x=\"sBLEU\", y=\"COMET\", s=10, hue=\"model\")\n",
    "for src, tgt in mean_metric.iloc[np.linspace(0, len(mean_metric)-1, 5, dtype=int)].index:#[(\"hu\", \"et\")]:\n",
    "    lp_scores = mean_metrics[(mean_metrics[\"src\"]==src) & (mean_metrics[\"tgt\"]==tgt)]\n",
    "    mean_lp_scores = lp_scores[[\"sBLEU\", \"COMET\"]].mean()\n",
    "    text = f'{src}-{tgt}'\n",
    "    for _, row in lp_scores.iterrows():\n",
    "        fig.ax.annotate(text, (row[\"sBLEU\"], row[\"COMET\"]), xytext=(mean_lp_scores[\"sBLEU\"], mean_lp_scores[\"COMET\"]-10),arrowprops=arrowprops)\n",
    "        text=\"     \"\n",
    "sns.move_legend(fig, \"lower right\", bbox_to_anchor=(0.7, 0.2))\n",
    "fig.savefig(\"sbleu_v_comet_s10.pdf\")"
   ]
  },
  {
   "cell_type": "code",
   "execution_count": 74,
   "id": "c5e58f5f-61e9-4a12-ae57-54320472eccb",
   "metadata": {},
   "outputs": [],
   "source": [
    "pearson={}\n",
    "for model, model_metrics in mean_metrics.groupby(\"model\"):\n",
    "    pearson[model]={}\n",
    "    for imodel, imodel_metrics in mean_metrics.groupby(\"model\"):\n",
    "    \n",
    "        pearson[model][imodel]=scipy.stats.pearsonr(model_metrics[\"sBLEU\"],imodel_metrics[\"sBLEU\"]).statistic"
   ]
  },
  {
   "cell_type": "code",
   "execution_count": 75,
   "id": "082e9ff7-cd23-4d21-ad7e-892c31ffa69a",
   "metadata": {},
   "outputs": [
    {
     "data": {
      "text/html": [
       "<div>\n",
       "<style scoped>\n",
       "    .dataframe tbody tr th:only-of-type {\n",
       "        vertical-align: middle;\n",
       "    }\n",
       "\n",
       "    .dataframe tbody tr th {\n",
       "        vertical-align: top;\n",
       "    }\n",
       "\n",
       "    .dataframe thead th {\n",
       "        text-align: right;\n",
       "    }\n",
       "</style>\n",
       "<table border=\"1\" class=\"dataframe\">\n",
       "  <thead>\n",
       "    <tr style=\"text-align: right;\">\n",
       "      <th></th>\n",
       "      <th>Llama-3.1-8B-Instruct</th>\n",
       "      <th>Qwen3-4B</th>\n",
       "      <th>Qwen3-8B</th>\n",
       "    </tr>\n",
       "  </thead>\n",
       "  <tbody>\n",
       "    <tr>\n",
       "      <th>Llama-3.1-8B-Instruct</th>\n",
       "      <td>1.000000</td>\n",
       "      <td>0.972441</td>\n",
       "      <td>0.981272</td>\n",
       "    </tr>\n",
       "    <tr>\n",
       "      <th>Qwen3-4B</th>\n",
       "      <td>0.972441</td>\n",
       "      <td>1.000000</td>\n",
       "      <td>0.978853</td>\n",
       "    </tr>\n",
       "    <tr>\n",
       "      <th>Qwen3-8B</th>\n",
       "      <td>0.981272</td>\n",
       "      <td>0.978853</td>\n",
       "      <td>1.000000</td>\n",
       "    </tr>\n",
       "  </tbody>\n",
       "</table>\n",
       "</div>"
      ],
      "text/plain": [
       "                       Llama-3.1-8B-Instruct  Qwen3-4B  Qwen3-8B\n",
       "Llama-3.1-8B-Instruct               1.000000  0.972441  0.981272\n",
       "Qwen3-4B                            0.972441  1.000000  0.978853\n",
       "Qwen3-8B                            0.981272  0.978853  1.000000"
      ]
     },
     "execution_count": 75,
     "metadata": {},
     "output_type": "execute_result"
    }
   ],
   "source": [
    "pd.DataFrame(pearson)"
   ]
  },
  {
   "cell_type": "code",
   "execution_count": 66,
   "id": "4a8fde4b-4888-4eab-8e92-ff8616f8adb1",
   "metadata": {},
   "outputs": [],
   "source": [
    "pearson={}\n",
    "for model, model_metrics in mean_metrics.groupby(\"model\"):\n",
    "    pearson[model]={}\n",
    "    for imodel, imodel_metrics in mean_metrics.groupby(\"model\"):\n",
    "    \n",
    "        pearson[model][imodel]=scipy.stats.pearsonr(model_metrics[\"COMET\"],imodel_metrics[\"COMET\"]).statistic"
   ]
  },
  {
   "cell_type": "code",
   "execution_count": 67,
   "id": "a9a18cb5-c941-475b-8eae-6fde8180eb88",
   "metadata": {},
   "outputs": [
    {
     "data": {
      "text/html": [
       "<div>\n",
       "<style scoped>\n",
       "    .dataframe tbody tr th:only-of-type {\n",
       "        vertical-align: middle;\n",
       "    }\n",
       "\n",
       "    .dataframe tbody tr th {\n",
       "        vertical-align: top;\n",
       "    }\n",
       "\n",
       "    .dataframe thead th {\n",
       "        text-align: right;\n",
       "    }\n",
       "</style>\n",
       "<table border=\"1\" class=\"dataframe\">\n",
       "  <thead>\n",
       "    <tr style=\"text-align: right;\">\n",
       "      <th></th>\n",
       "      <th>Llama-3.1-8B-Instruct</th>\n",
       "      <th>Qwen3-4B</th>\n",
       "      <th>Qwen3-8B</th>\n",
       "    </tr>\n",
       "  </thead>\n",
       "  <tbody>\n",
       "    <tr>\n",
       "      <th>Llama-3.1-8B-Instruct</th>\n",
       "      <td>1.000000</td>\n",
       "      <td>0.885683</td>\n",
       "      <td>0.892251</td>\n",
       "    </tr>\n",
       "    <tr>\n",
       "      <th>Qwen3-4B</th>\n",
       "      <td>0.885683</td>\n",
       "      <td>1.000000</td>\n",
       "      <td>0.905166</td>\n",
       "    </tr>\n",
       "    <tr>\n",
       "      <th>Qwen3-8B</th>\n",
       "      <td>0.892251</td>\n",
       "      <td>0.905166</td>\n",
       "      <td>1.000000</td>\n",
       "    </tr>\n",
       "  </tbody>\n",
       "</table>\n",
       "</div>"
      ],
      "text/plain": [
       "                       Llama-3.1-8B-Instruct  Qwen3-4B  Qwen3-8B\n",
       "Llama-3.1-8B-Instruct               1.000000  0.885683  0.892251\n",
       "Qwen3-4B                            0.885683  1.000000  0.905166\n",
       "Qwen3-8B                            0.892251  0.905166  1.000000"
      ]
     },
     "execution_count": 67,
     "metadata": {},
     "output_type": "execute_result"
    }
   ],
   "source": [
    "pd.DataFrame(pearson)"
   ]
  },
  {
   "cell_type": "markdown",
   "id": "17c37014-cbbd-426e-bbd8-3674f7505d70",
   "metadata": {},
   "source": [
    "## party borda"
   ]
  },
  {
   "cell_type": "code",
   "execution_count": 54,
   "id": "4c33da7e-3b6f-4f69-8a20-501f3de23904",
   "metadata": {},
   "outputs": [],
   "source": [
    "def borda_per_lang_pair(all_metrics, variable, p_thresh=0.01):\n",
    "    ranks = Counter()\n",
    "    p_values = {}\n",
    "    bartlett_p = {}\n",
    "    normal_p = {}\n",
    "    chi_p={}\n",
    "    all_mean_tgt_metrics_per_party = {}\n",
    "    for src, src_metrics in all_metrics.groupby(\"src\", sort=False):\n",
    "        all_mean_tgt_metrics_per_party[src] = {}\n",
    "        p_values[src] = {}\n",
    "        normal_p[src] = {}\n",
    "        bartlett_p[src] = {}\n",
    "        chi_p[src] = {}\n",
    "        for tgt, tgt_metrics in src_metrics.groupby(\"tgt\", sort=False):\n",
    "        \n",
    "            tgt_metrics_per_party = []\n",
    "            mean_tgt_metrics_per_party = {}\n",
    "            tgt_normal_p, tgt_chi_p = [], []\n",
    "            for party, party_metrics in tgt_metrics.groupby(variable, sort=False):\n",
    "                tgt_metrics_per_party.append(party_metrics[metric_name])\n",
    "                mean_tgt_metrics_per_party[party] = party_metrics[metric_name].mean()\n",
    "            \n",
    "            result=f_oneway(*tgt_metrics_per_party)\n",
    "            p_values[src][tgt] = result.pvalue\n",
    "            \n",
    "            for i, k in enumerate(sorted(mean_tgt_metrics_per_party, key=mean_tgt_metrics_per_party.get)):\n",
    "                ranks[k] += i\n",
    "        all_mean_tgt_metrics_per_party[src][tgt]=mean_tgt_metrics_per_party\n",
    "    \n",
    "    \n",
    "    ranks[f\"$p<{p_thresh}$\"] = (pd.DataFrame(p_values)<p_thresh).sum().sum()\n",
    "    return ranks,all_mean_tgt_metrics_per_party"
   ]
  },
  {
   "cell_type": "code",
   "execution_count": 62,
   "id": "9b257ff1-c7a5-47e9-8090-e2e163ce9bf8",
   "metadata": {},
   "outputs": [],
   "source": [
    "metric_name=\"COMET\"#sBLEU\""
   ]
  },
  {
   "cell_type": "code",
   "execution_count": 63,
   "id": "28696169-d015-43b7-b133-d25464f4a95f",
   "metadata": {},
   "outputs": [],
   "source": [
    "ranks_per_model = {}\n",
    "for model, model_metrics in all_metrics.groupby(\"model\", sort=False):#all_metrics[all_metrics[\"translationese\"]!=\"src <-\"]\n",
    "    ranks,all_mean_tgt_metrics_per_party = borda_per_lang_pair(model_metrics, \"EU Party\") #, equal_var=False)\n",
    "    ranks_per_model[model] = ranks"
   ]
  },
  {
   "cell_type": "code",
   "execution_count": 64,
   "id": "c38de888-e520-4c13-afce-fa497cf5955b",
   "metadata": {},
   "outputs": [],
   "source": [
    "ranks_per_model=pd.DataFrame(ranks_per_model).T"
   ]
  },
  {
   "cell_type": "code",
   "execution_count": null,
   "id": "511a3f28-3c4b-41c8-8d89-c934a0b8e853",
   "metadata": {},
   "outputs": [],
   "source": [
    "copy_print(pd.concat((ranks_per_model['$p<0.01$'],ranks_per_model[eu_parties]/420),axis=1).to_markdown(floatfmt=\".2f\"))"
   ]
  },
  {
   "cell_type": "markdown",
   "id": "06d9098e-75da-4e93-8685-6e637d59c953",
   "metadata": {},
   "source": [
    "# per target language\n"
   ]
  },
  {
   "cell_type": "code",
   "execution_count": 48,
   "id": "a90e0d4f-c761-4b50-8d84-4c291841e7ac",
   "metadata": {},
   "outputs": [],
   "source": [
    "def borda_per_tgt(all_metrics, variable, p_thresh=0.01):\n",
    "    ranks = Counter()\n",
    "    p_values = {}\n",
    "    all_mean_tgt_metrics_per_party = {}\n",
    "    for tgt, tgt_metrics in all_metrics.groupby(\"tgt\", sort=False):\n",
    "        \n",
    "        tgt_metrics_per_party = []\n",
    "        mean_tgt_metrics_per_party = {}\n",
    "        \n",
    "        for party, party_metrics in tgt_metrics.groupby(variable, sort=False):\n",
    "            tgt_metrics_per_party.append(party_metrics[metric_name])\n",
    "            mean_tgt_metrics_per_party[party] = party_metrics[metric_name].mean()\n",
    "        \n",
    "        result=f_oneway(*tgt_metrics_per_party)\n",
    "        p_values[tgt] = result.pvalue\n",
    "        \n",
    "        for i, k in enumerate(sorted(mean_tgt_metrics_per_party, key=mean_tgt_metrics_per_party.get)):\n",
    "            if k==\"en\" and i != 19:\n",
    "                print(tgt,k,i)\n",
    "            ranks[k] += i\n",
    "        if k!=\"en\":\n",
    "            print(tgt,k,i)\n",
    "        all_mean_tgt_metrics_per_party[tgt]=mean_tgt_metrics_per_party\n",
    "    \n",
    "    \n",
    "   # ranks=pd.DataFrame({model:ranks})\n",
    "    ranks[f\"$p<{p_thresh}$\"] = (pd.DataFrame([p_values])<p_thresh).sum().sum()\n",
    "    return ranks,all_mean_tgt_metrics_per_party"
   ]
  },
  {
   "cell_type": "markdown",
   "id": "6326b88a-6da3-4639-adce-a29c1b2c3ca4",
   "metadata": {},
   "source": [
    "## party borda"
   ]
  },
  {
   "cell_type": "code",
   "execution_count": 30,
   "id": "80de9201-b7f8-4bd5-8f7d-b69a423cbd57",
   "metadata": {},
   "outputs": [],
   "source": [
    "ranks_per_model = {}\n",
    "for model, model_metrics in all_metrics[all_metrics[\"translationese\"]!=\"src <-\"].groupby(\"model\", sort=False):\n",
    "    ranks,all_mean_tgt_metrics_per_party = borda_per_tgt(model_metrics, \"EU Party\")\n",
    "    ranks_per_model[model] = ranks"
   ]
  },
  {
   "cell_type": "code",
   "execution_count": 31,
   "id": "10f8b363-cbc8-493a-aa5b-87907748f44a",
   "metadata": {},
   "outputs": [],
   "source": [
    "ranks_per_model=pd.DataFrame(ranks_per_model).T"
   ]
  },
  {
   "cell_type": "code",
   "execution_count": 34,
   "id": "120e0094-7470-44a2-9121-a8a57bf940fe",
   "metadata": {},
   "outputs": [
    {
     "name": "stdout",
     "output_type": "stream",
     "text": [
      "|                       |   $p<0.01$ |   ALDE |   ECR |   EFA |   EFD |   EPP |   NA |   NGL |   S&D |\n",
      "|:----------------------|-----------:|-------:|------:|------:|------:|------:|-----:|------:|------:|\n",
      "| Qwen3-4B              |      21.00 |   5.05 |  3.29 |  3.57 |  2.90 |  5.67 | 1.14 |  1.05 |  5.33 |\n",
      "| Qwen3-8B              |      21.00 |   5.19 |  2.90 |  3.57 |  3.14 |  5.38 | 1.19 |  1.10 |  5.52 |\n",
      "| Llama-3.1-8B-Instruct |      21.00 |   5.05 |  3.86 |  3.43 |  2.71 |  4.76 | 1.90 |  0.95 |  5.33 |\n"
     ]
    }
   ],
   "source": [
    "copy_print(pd.concat((ranks_per_model[\"$p<0.01$\"],ranks_per_model[eu_parties]/21),axis=1).to_markdown(floatfmt=\".2f\"))"
   ]
  },
  {
   "cell_type": "code",
   "execution_count": 33,
   "id": "4a60dd69-9cf0-4d4e-ac3a-a4afc4340a67",
   "metadata": {
    "scrolled": true
   },
   "outputs": [
    {
     "name": "stdout",
     "output_type": "stream",
     "text": [
      "|      |    bg |    cs |    da |    de |    el |    en |    es |   et |    fi |    fr |    hu |    it |   lt |   lv |    nl |    pl |    pt |    ro |    sk |    sl |    sv |\n",
      "|:-----|------:|------:|------:|------:|------:|------:|------:|-----:|------:|------:|------:|------:|-----:|-----:|------:|------:|------:|------:|------:|------:|------:|\n",
      "| EFA  | 18.10 | 17.58 | 19.57 | 20.79 | 17.13 | 34.46 | 28.96 | 8.30 | 10.83 | 25.14 | 13.12 | 20.50 | 9.05 | 9.12 | 19.88 | 15.65 | 23.27 | 21.68 | 13.42 | 13.56 | 19.93 |\n",
      "| EPP  | 18.41 | 17.93 | 19.17 | 20.59 | 18.14 | 35.80 | 30.96 | 7.75 | 10.23 | 26.47 | 12.56 | 21.24 | 8.64 | 8.97 | 19.65 | 16.11 | 24.35 | 22.19 | 13.66 | 13.71 | 20.41 |\n",
      "| S&D  | 18.74 | 18.04 | 19.22 | 20.70 | 18.24 | 36.29 | 30.39 | 7.86 | 10.25 | 26.06 | 12.53 | 21.07 | 8.70 | 8.96 | 20.04 | 16.26 | 23.94 | 22.22 | 13.90 | 13.80 | 20.56 |\n",
      "| ALDE | 18.16 | 17.75 | 19.84 | 21.01 | 17.90 | 35.73 | 29.68 | 8.18 | 10.70 | 25.44 | 12.63 | 21.00 | 8.77 | 9.04 | 20.51 | 15.95 | 23.83 | 21.76 | 13.70 | 13.59 | 21.04 |\n",
      "| ECR  | 19.00 | 17.80 | 19.63 | 21.23 | 17.73 | 36.45 | 28.84 | 8.02 | 10.61 | 24.64 | 12.52 | 19.92 | 8.57 | 8.81 | 20.11 | 15.85 | 23.16 | 21.46 | 13.62 | 13.65 | 20.89 |\n",
      "| NGL  | 17.94 | 17.00 | 18.52 | 19.64 | 16.69 | 34.46 | 29.56 | 7.39 |  9.78 | 25.53 | 11.84 | 20.59 | 8.01 | 8.41 | 18.53 | 15.21 | 23.30 | 21.09 | 13.00 | 13.12 | 19.49 |\n",
      "| EFD  | 18.60 | 17.70 | 18.39 | 20.33 | 17.72 | 36.17 | 30.26 | 7.53 |  9.78 | 25.60 | 12.13 | 21.15 | 8.37 | 8.80 | 19.36 | 15.71 | 23.79 | 21.74 | 13.42 | 13.16 | 20.09 |\n",
      "| NA   | 17.54 | 17.29 | 18.50 | 21.13 | 16.55 | 34.29 | 29.16 | 7.99 | 10.17 | 24.25 | 12.77 | 19.80 | 8.71 | 8.81 | 19.07 | 15.70 | 23.48 | 21.58 | 13.21 | 13.10 | 20.00 |\n"
     ]
    }
   ],
   "source": [
    "copy_print(pd.DataFrame(all_mean_tgt_metrics_per_party).to_markdown(floatfmt=\".2f\"))"
   ]
  },
  {
   "cell_type": "markdown",
   "id": "52491ca0-0bd7-4adc-a5cf-b7b2d1bff046",
   "metadata": {},
   "source": [
    "## language borda"
   ]
  },
  {
   "cell_type": "code",
   "execution_count": 49,
   "id": "b77b0893-9d74-46c9-800c-459e32f9cdaf",
   "metadata": {},
   "outputs": [
    {
     "name": "stdout",
     "output_type": "stream",
     "text": [
      "Qwen3-4B\n",
      "cs en 18\n",
      "cs sk 19\n",
      "en es 19\n",
      "sk en 18\n",
      "sk cs 19\n",
      "Qwen3-8B\n",
      "cs en 18\n",
      "cs sk 19\n",
      "en es 19\n",
      "sk en 18\n",
      "sk cs 19\n",
      "Llama-3.1-8B-Instruct\n",
      "cs en 18\n",
      "cs sk 19\n",
      "en es 19\n",
      "sk en 18\n",
      "sk cs 19\n"
     ]
    }
   ],
   "source": [
    "ranks_per_model = {}\n",
    "for model, model_metrics in all_metrics.groupby(\"model\", sort=False):\n",
    "    print(model)\n",
    "    ranks,all_mean_tgt_metrics_per_party = borda_per_tgt(model_metrics, \"src\")\n",
    "    ranks_per_model[model] = ranks"
   ]
  },
  {
   "cell_type": "code",
   "execution_count": 116,
   "id": "68599b3e-89a8-4549-87e5-88d236089cd6",
   "metadata": {},
   "outputs": [],
   "source": [
    "ranks_per_model=pd.DataFrame(ranks_per_model).T"
   ]
  },
  {
   "cell_type": "code",
   "execution_count": 117,
   "id": "13a8d5d1-5bd4-43cb-898c-2f7f919e7fce",
   "metadata": {},
   "outputs": [
    {
     "name": "stdout",
     "output_type": "stream",
     "text": [
      "|                       |   $p<0.01$ |    bg |    cs |    da |    de |    el |    en |    es |   et |   fi |    fr |   hu |   it |   lt |   lv |   nl |   pl |    pt |    ro |    sk |   sl |   sv |\n",
      "|:----------------------|-----------:|------:|------:|------:|------:|------:|------:|------:|-----:|-----:|------:|-----:|-----:|-----:|-----:|-----:|-----:|------:|------:|------:|-----:|-----:|\n",
      "| Qwen3-4B              |      21.00 | 14.85 | 11.60 | 12.85 | 12.85 |  6.75 | 18.90 | 17.05 | 1.05 | 3.60 | 13.05 | 3.20 | 8.75 | 1.15 | 4.30 | 6.30 | 9.10 | 12.50 | 14.90 | 10.45 | 7.50 | 8.80 |\n",
      "| Qwen3-8B              |      21.00 | 15.35 | 10.85 | 11.95 | 13.95 |  7.25 | 18.90 | 17.20 | 1.50 | 2.60 | 13.20 | 2.65 | 8.50 | 0.20 | 3.50 | 5.60 | 6.65 | 14.40 | 15.40 | 11.55 | 9.35 | 8.95 |\n",
      "| Llama-3.1-8B-Instruct |      21.00 | 14.95 | 10.85 |  9.10 | 13.85 | 13.80 | 18.90 | 17.15 | 1.30 | 2.45 | 13.50 | 3.05 | 9.20 | 0.55 | 2.55 | 5.65 | 7.35 | 14.40 | 13.15 | 11.90 | 8.00 | 7.85 |\n"
     ]
    }
   ],
   "source": [
    "# 21 languages vote but only for 20 source so max score is 19*20 -> (19*20)/20 on average\n",
    "copy_print(pd.concat((ranks_per_model[\"$p<0.01$\"],ranks_per_model[languages]/20),axis=1).to_markdown(floatfmt=\".2f\"))"
   ]
  },
  {
   "cell_type": "code",
   "execution_count": 80,
   "id": "b2ea7a32-6e29-4d31-bcc9-2c4c7f6faaa6",
   "metadata": {
    "scrolled": true
   },
   "outputs": [
    {
     "name": "stdout",
     "output_type": "stream",
     "text": [
      "|    |    bg |    cs |    da |    de |    el |    en |    es |    et |    fi |    fr |    hu |    it |    lt |    lv |    nl |    pl |    pt |    ro |    sk |    sl |    sv |\n",
      "|:---|------:|------:|------:|------:|------:|------:|------:|------:|------:|------:|------:|------:|------:|------:|------:|------:|------:|------:|------:|------:|------:|\n",
      "| bg | nan   |  18.7 |  21.7 |  22.2 |  20.2 |  40.0 |  33.4 |   8.9 |  12.0 |  27.8 |  13.2 |  22.4 |  13.0 |  13.7 |  20.3 |  17.8 |  26.0 |  26.3 |  18.5 |  16.5 |  20.2 |\n",
      "| cs |  22.0 | nan   |  20.3 |  21.7 |  18.8 |  36.3 |  30.3 |   8.6 |  11.3 |  25.7 |  12.4 |  21.0 |  11.7 |  12.4 |  19.2 |  17.4 |  23.3 |  23.5 |  26.2 |  15.6 |  18.5 |\n",
      "| da |  21.4 |  17.1 | nan   |  22.9 |  18.4 |  39.7 |  31.5 |   8.8 |  11.9 |  26.9 |  12.7 |  21.4 |  11.4 |  12.5 |  20.1 |  15.8 |  24.0 |  23.4 |  16.7 |  14.6 |  25.4 |\n",
      "| de |  21.9 |  18.3 |  22.4 | nan   |  19.0 |  39.2 |  32.6 |   9.2 |  12.1 |  27.4 |  12.9 |  22.2 |  11.9 |  12.3 |  22.5 |  16.6 |  24.8 |  24.8 |  18.0 |  15.8 |  21.2 |\n",
      "| el |  22.6 |  15.8 |  20.0 |  19.7 | nan   |  35.8 |  32.1 |   6.3 |  10.7 |  26.5 |  11.5 |  21.1 |   9.9 |  11.1 |  19.2 |  15.1 |  22.5 |  22.8 |  16.3 |  14.6 |  18.1 |\n",
      "| en |  29.3 |  22.5 |  29.0 |  29.5 |  25.8 | nan   |  45.1 |  10.6 |  14.6 |  35.9 |  14.8 |  28.7 |  14.3 |  15.6 |  24.6 |  20.7 |  34.3 |  35.3 |  21.9 |  19.3 |  26.8 |\n",
      "| es |  24.6 |  18.6 |  22.6 |  23.8 |  22.0 |  44.3 | nan   |   9.3 |  12.3 |  31.7 |  13.0 |  26.1 |  12.6 |  12.8 |  21.2 |  17.5 |  32.4 |  29.4 |  18.5 |  16.5 |  21.0 |\n",
      "| et |  17.8 |  14.1 |  16.4 |  17.2 |  14.8 |  28.7 |  25.3 | nan   |  10.9 |  21.5 |  10.9 |  16.5 |  10.3 |   9.3 |  16.1 |  13.4 |  19.7 |  18.7 |  13.4 |  11.9 |  15.7 |\n",
      "| fi |  18.0 |  14.2 |  17.5 |  18.0 |  15.6 |  30.2 |  26.7 |   6.9 | nan   |  22.8 |  11.6 |  17.1 |   9.6 |   9.7 |  17.1 |  13.2 |  20.5 |  19.5 |  13.7 |  12.1 |  17.1 |\n",
      "| fr |  22.5 |  17.4 |  20.9 |  22.3 |  20.2 |  39.2 |  35.5 |   8.4 |  11.0 | nan   |  12.6 |  26.0 |  11.8 |  12.5 |  20.8 |  16.6 |  28.7 |  27.1 |  16.9 |  14.9 |  19.6 |\n",
      "| hu |  18.5 |  14.1 |  17.1 |  18.2 |  15.8 |  30.6 |  27.2 |   7.1 |  10.2 |  22.7 | nan   |  18.0 |   9.8 |  10.1 |  16.8 |  13.9 |  20.2 |  19.6 |  13.3 |  12.4 |  16.1 |\n",
      "| it |  20.7 |  16.2 |  19.4 |  18.9 |  19.2 |  36.0 |  33.1 |   8.0 |  10.5 |  28.6 |  11.9 | nan   |  10.9 |  11.2 |  19.6 |  15.7 |  26.9 |  24.9 |  15.8 |  13.6 |  18.0 |\n",
      "| lt |  18.4 |  13.7 |  15.9 |  16.1 |  14.7 |  28.6 |  24.8 |   6.8 |  10.0 |  21.2 |  10.2 |  16.1 | nan   |   7.9 |  15.6 |  13.2 |  18.8 |  18.0 |  13.2 |  11.5 |  15.2 |\n",
      "| lv |  19.6 |  15.0 |  17.5 |  17.5 |  15.6 |  31.4 |  26.9 |   6.4 |  10.9 |  22.9 |  11.4 |  17.8 |  10.8 | nan   |  17.0 |  14.3 |  20.4 |  19.9 |  14.1 |  12.4 |  16.2 |\n",
      "| nl |  19.3 |  15.4 |  19.3 |  21.9 |  16.8 |  33.7 |  28.5 |   8.0 |  10.5 |  25.1 |  11.6 |  20.1 |  10.7 |  11.0 | nan   |  14.7 |  21.9 |  21.2 |  14.6 |  13.2 |  18.8 |\n",
      "| pl |  21.4 |  17.2 |  19.1 |  19.5 |  17.4 |  30.5 |  28.9 |   8.4 |  10.7 |  24.7 |  11.7 |  19.9 |  11.2 |  11.8 |  18.5 | nan   |  22.4 |  22.4 |  17.1 |  14.5 |  17.8 |\n",
      "| pt |  23.8 |  17.6 |  21.4 |  22.5 |  21.2 |  42.8 |  39.4 |   8.8 |  11.8 |  31.6 |  12.5 |  25.9 |  12.0 |  12.1 |  20.6 |  17.4 | nan   |  28.4 |  17.3 |  15.5 |  20.0 |\n",
      "| ro |  24.3 |  18.4 |  22.0 |  22.2 |  22.5 |  44.1 |  37.3 |   8.4 |  12.0 |  31.2 |  12.9 |  24.5 |  11.9 |  12.5 |  21.0 |  17.8 |  29.4 | nan   |  18.0 |  15.7 |  20.6 |\n",
      "| sk |  22.7 |  24.8 |  20.6 |  22.1 |  19.2 |  37.2 |  31.0 |   8.2 |  11.4 |  26.1 |  12.5 |  21.4 |  11.7 |  12.1 |  19.2 |  17.5 |  23.7 |  24.0 | nan   |  14.6 |  18.6 |\n",
      "| sl |  21.7 |  19.3 |  20.0 |  21.2 |  18.6 |  36.2 |  30.5 |   7.9 |  11.4 |  25.5 |  12.5 |  20.6 |  11.5 |  11.4 |  18.9 |  16.5 |  23.4 |  23.2 |  18.7 | nan   |  18.4 |\n",
      "| sv |  20.6 |  15.9 |  25.7 |  21.7 |  17.2 |  37.5 |  29.6 |   8.8 |  12.1 |  25.7 |  11.9 |  20.7 |  10.9 |  11.6 |  19.6 |  15.3 |  22.5 |  22.6 |  15.3 |  13.8 | nan   |\n"
     ]
    }
   ],
   "source": [
    "copy_print(pd.DataFrame(all_mean_tgt_metrics_per_party)[languages].T[languages].T.to_markdown(floatfmt=\".1f\"))"
   ]
  },
  {
   "cell_type": "markdown",
   "id": "c40a3c25-59a4-4806-b98a-eb030b7456b9",
   "metadata": {},
   "source": [
    "# language pair table"
   ]
  },
  {
   "cell_type": "code",
   "execution_count": 2,
   "id": "2f86f36a-0a3e-40ea-8e3f-59d2d8870cfe",
   "metadata": {},
   "outputs": [],
   "source": [
    "model = \"Qwen3-8B\"#\"Qwen3-4B\"#\"Llama-3.1-8B-Instruct\"#\"Qwen3-8B\"#\"Llama-3.2-1B-Instruct\"#\"Llama-3.2-1B-Instruct\"#\"Llama-3.2-1B-Instruct\"#\n",
    "#/home/paul/code/bias/iznogoud/data/jz/text2text/21-multi-europarl/\n",
    "with open(f\"../../bias/iznogoud/data/exp/text2text/21-multi-europarl/{model}/metrics.json\",\"rt\") as file:\n",
    "    metrics = json.load(file)"
   ]
  },
  {
   "cell_type": "code",
   "execution_count": 5,
   "id": "aaf965df-24cf-4b56-89c1-d16ed94c80b3",
   "metadata": {},
   "outputs": [],
   "source": [
    "metric_name =\"BLEU\"# \"\"wmt22-comet-da\"#\n",
    "\n",
    "matrix = {}\n",
    "for metric in metrics:\n",
    "    matrix.setdefault(metric[\"src\"], {})\n",
    "    assert metric[\"tgt\"] not in matrix[metric[\"src\"]]\n",
    "    matrix[metric[\"src\"]][metric[\"tgt\"]] = metric[metric_name]"
   ]
  },
  {
   "cell_type": "code",
   "execution_count": 231,
   "id": "beef4146-24ec-4f3b-b1e9-fe3e156af789",
   "metadata": {},
   "outputs": [
    {
     "name": "stdout",
     "output_type": "stream",
     "text": [
      "\\resizebox{\\textwidth}{!}{\\begin{tabular}{lrrrrrrrrrrrrrrrrrrrrr}\n",
      "\\toprule\n",
      " & bg & cs & da & de & el & en & es & et & fi & fr & hu & it & lt & lv & nl & pl & pt & ro & sk & sl & sv \\\\\n",
      "\\midrule\n",
      "bg & NaN & 90.6 & 87.4 & 85.8 & 83.9 & 89.0 & 87.7 & 76.1 & 84.5 & 86.8 & 86.2 & 88.7 & 78.0 & 75.4 & 86.8 & 90.4 & 87.2 & 90.0 & 84.5 & 84.9 & 88.7 \\\\\n",
      "cs & 85.7 & NaN & 87.0 & 87.3 & 84.3 & 88.8 & 87.1 & 74.1 & 83.0 & 85.5 & 84.5 & 88.3 & 74.1 & 71.0 & 87.4 & 89.5 & 86.2 & 88.1 & 90.3 & 78.5 & 89.1 \\\\\n",
      "da & 83.1 & 89.3 & NaN & 86.1 & 82.3 & 89.2 & 85.3 & 73.6 & 84.2 & 85.3 & 85.1 & 87.0 & 75.2 & 72.2 & 86.5 & 88.5 & 84.7 & 86.8 & 79.7 & 79.2 & 90.5 \\\\\n",
      "de & 85.2 & 90.4 & 86.7 & NaN & 83.7 & 89.1 & 86.5 & 75.2 & 84.7 & 85.9 & 85.9 & 87.8 & 76.3 & 71.8 & 87.9 & 89.8 & 86.1 & 89.1 & 82.9 & 82.7 & 89.1 \\\\\n",
      "el & 85.5 & 89.7 & 87.1 & 85.2 & NaN & 89.5 & 87.5 & 75.4 & 84.9 & 87.1 & 84.6 & 88.6 & 77.3 & 74.1 & 86.2 & 89.8 & 87.2 & 90.0 & 83.5 & 82.6 & 88.8 \\\\\n",
      "en & 88.3 & 91.8 & 89.5 & 88.4 & 88.5 & NaN & 90.3 & 82.1 & 89.0 & 89.6 & 89.0 & 90.8 & 80.4 & 77.9 & 89.2 & 91.1 & 89.7 & 92.5 & 85.3 & 85.5 & 91.1 \\\\\n",
      "es & 86.2 & 89.7 & 86.7 & 85.3 & 86.1 & 89.7 & NaN & 75.9 & 85.6 & 88.2 & 86.2 & 90.0 & 76.5 & 72.5 & 86.7 & 90.0 & 89.6 & 89.8 & 82.3 & 82.0 & 88.5 \\\\\n",
      "et & 83.3 & 87.3 & 83.9 & 84.0 & 82.6 & 87.9 & 84.8 & NaN & 80.4 & 84.4 & 83.7 & 85.4 & 70.0 & 67.5 & 84.7 & 87.5 & 84.8 & 84.9 & 76.5 & 73.7 & 86.6 \\\\\n",
      "fi & 84.6 & 88.6 & 86.4 & 85.4 & 84.7 & 89.7 & 86.7 & 71.4 & NaN & 86.4 & 84.8 & 87.4 & 70.2 & 67.2 & 86.3 & 88.4 & 86.6 & 86.3 & 77.9 & 75.2 & 88.8 \\\\\n",
      "fr & 86.0 & 89.1 & 86.3 & 85.5 & 85.2 & 89.2 & 88.6 & 74.1 & 85.3 & NaN & 86.0 & 90.1 & 76.0 & 73.6 & 86.9 & 89.8 & 88.2 & 89.9 & 81.6 & 82.2 & 88.1 \\\\\n",
      "hu & 84.1 & 87.7 & 84.1 & 85.4 & 83.4 & 88.7 & 86.6 & 66.7 & 79.8 & 85.8 & NaN & 87.7 & 72.2 & 69.6 & 84.7 & 88.3 & 86.4 & 86.0 & 76.8 & 77.6 & 87.4 \\\\\n",
      "it & 84.6 & 89.3 & 85.7 & 84.9 & 84.1 & 88.4 & 88.1 & 73.9 & 84.1 & 87.4 & 85.1 & NaN & 75.4 & 72.0 & 86.2 & 89.7 & 87.8 & 88.5 & 81.5 & 80.8 & 87.9 \\\\\n",
      "lt & 82.9 & 85.6 & 82.4 & 82.3 & 81.2 & 85.8 & 83.3 & 66.9 & 80.5 & 82.0 & 82.5 & 84.6 & NaN & 68.6 & 81.8 & 87.1 & 82.5 & 84.4 & 73.1 & 73.5 & 85.5 \\\\\n",
      "lv & 84.0 & 86.9 & 84.2 & 83.6 & 81.6 & 86.9 & 83.8 & 68.3 & 82.0 & 83.6 & 83.8 & 85.7 & 72.3 & NaN & 84.0 & 87.1 & 83.6 & 85.9 & 75.6 & 77.0 & 86.6 \\\\\n",
      "nl & 83.9 & 88.5 & 85.1 & 86.3 & 82.2 & 88.2 & 85.3 & 71.9 & 83.2 & 85.4 & 84.3 & 86.8 & 74.3 & 69.9 & NaN & 88.0 & 84.7 & 86.0 & 79.2 & 77.3 & 87.5 \\\\\n",
      "pl & 86.0 & 89.9 & 86.0 & 85.9 & 84.1 & 87.6 & 87.1 & 71.8 & 83.4 & 86.2 & 84.9 & 88.4 & 75.0 & 71.2 & 86.3 & NaN & 86.5 & 88.5 & 82.6 & 81.2 & 88.5 \\\\\n",
      "pt & 86.4 & 89.2 & 86.4 & 85.3 & 85.6 & 89.5 & 89.8 & 74.7 & 84.8 & 88.3 & 85.2 & 89.9 & 75.4 & 71.5 & 86.4 & 89.4 & NaN & 88.1 & 80.8 & 80.2 & 88.6 \\\\\n",
      "ro & 86.4 & 89.1 & 86.0 & 86.1 & 85.7 & 90.2 & 88.6 & 69.3 & 82.8 & 87.8 & 84.8 & 88.9 & 72.4 & 69.1 & 86.2 & 88.7 & 87.1 & NaN & 79.7 & 77.8 & 88.4 \\\\\n",
      "sk & 85.7 & 94.2 & 86.8 & 87.3 & 84.3 & 88.6 & 87.1 & 74.3 & 83.8 & 85.5 & 85.7 & 88.2 & 72.6 & 70.9 & 87.3 & 90.3 & 86.3 & 88.8 & NaN & 81.4 & 89.0 \\\\\n",
      "sl & 85.2 & 90.3 & 86.0 & 86.0 & 83.5 & 88.2 & 86.4 & 68.4 & 82.6 & 84.9 & 84.8 & 87.3 & 71.5 & 66.4 & 86.1 & 89.0 & 85.4 & 87.3 & 82.1 & NaN & 88.1 \\\\\n",
      "sv & 83.6 & 89.1 & 88.9 & 86.3 & 83.3 & 89.4 & 85.7 & 74.6 & 84.5 & 85.3 & 85.0 & 87.5 & 75.4 & 71.9 & 86.4 & 89.2 & 84.9 & 87.6 & 79.2 & 78.5 & NaN \\\\\n",
      "\\bottomrule\n",
      "\\end{tabular}\n",
      "}\n",
      "    \\caption{wmt22-comet-da scores of Llama-3.1-8B-Instruct}\n",
      "    \\label{wmt22-comet-da scores of Llama-3.1-8B-Instruct}\n"
     ]
    }
   ],
   "source": [
    "#src/tgt\n",
    "caption=r\"\"\"}\n",
    "    \\caption{%s scores of %s}\n",
    "    \\label{%s scores of %s}\"\"\" % (metric_name, model, metric_name, model)\n",
    "copy_print(r\"\\resizebox{\\textwidth}{!}{\"+df.to_latex(float_format=\"%.1f\")+caption)"
   ]
  }
 ],
 "metadata": {
  "kernelspec": {
   "display_name": "Python 3 (ipykernel)",
   "language": "python",
   "name": "python3"
  },
  "language_info": {
   "codemirror_mode": {
    "name": "ipython",
    "version": 3
   },
   "file_extension": ".py",
   "mimetype": "text/x-python",
   "name": "python",
   "nbconvert_exporter": "python",
   "pygments_lexer": "ipython3",
   "version": "3.10.15"
  }
 },
 "nbformat": 4,
 "nbformat_minor": 5
}
